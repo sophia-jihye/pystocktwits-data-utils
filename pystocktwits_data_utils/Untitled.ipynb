{
 "cells": [
  {
   "cell_type": "code",
   "execution_count": 8,
   "metadata": {},
   "outputs": [
    {
     "data": {
      "text/plain": [
       "'SmartOptions Unusual Activity Alert\\n Delayed \\n\\n AAPL Puts\\n Exp\\n\\nTrade Volume Contracts\\n\\n was traded now \\n\\nCurrent Stock Price \\n\\nTrade Type Split\\n\\nFollow the Money amp Trade Options with Our SmartOptions Artificial Intelligence \\n '"
      ]
     },
     "execution_count": 8,
     "metadata": {},
     "output_type": "execute_result"
    }
   ],
   "source": [
    "content = \"\"\"SmartOptions® Unusual Activity Alert\n",
    "(Delayed)\n",
    "\n",
    "$AAPL $140 Puts\n",
    "03/18/2022 Exp\n",
    "\n",
    "Trade Volume: 1,000 Contracts\n",
    "\n",
    "$1,155,000 was traded now.\n",
    "\n",
    "Current Stock Price: $138.65\n",
    "\n",
    "Trade Type: Split\n",
    "\n",
    "Follow the Money &amp; Trade Options with Our SmartOptions® Artificial Intelligence.\n",
    "https://www.smartoptions.ai\"\"\"\n",
    "\n",
    "content\n",
    "\n",
    "import re\n",
    "EMAIL_PATTERN = re.compile(r'''(([a-zA-Z0-9._%+-]+)@([a-zA-Z0-9.-]+)(\\.[a-zA-Z]{2,4}))''', re.VERBOSE)\n",
    "URL_PATTERN = re.compile(\"(ftp|http|https)?://(?:[a-zA-Z]|[0-9]|[$-_@.&+]|[!*\\(\\),]|(?:%[0-9a-fA-F][0-9a-fA-F]))+\", re.VERBOSE)\n",
    "MULTIPLE_SPACES = re.compile(' +', re.UNICODE)\n",
    "removal_list = \"|,‘, ’, ◇, ‘, ”,  ’, ', ·, \\“, ·, △, ➤, ●,  , ■, (, ), \\\", >>, `, /, -,∼,=,ㆍ<,>, .,?, !,【,】, …, ◆,%\"\n",
    "def get_preprocessed_tokens(text):\n",
    "    text = re.sub(EMAIL_PATTERN, ' ', text)   # 이메일 패턴 제거\n",
    "    text = re.sub(URL_PATTERN, ' ', text)   # URL 패턴 제거\n",
    "    text = re.sub(\"[^a-zA-Z\\\\s]\", \" \", text)\n",
    "    text = text.translate(str.maketrans(removal_list, ' '*len(removal_list)))   # 특수문자 제거\n",
    "    text = re.sub(MULTIPLE_SPACES, ' ', text)   # 무의미한 공백 제거\n",
    "    return text\n",
    "get_preprocessed_tokens(content)"
   ]
  },
  {
   "cell_type": "code",
   "execution_count": 7,
   "metadata": {},
   "outputs": [
    {
     "data": {
      "text/plain": [
       "'SmartOptions Unusual Activity Alert\\n Delayed \\n\\n AAPL Puts\\n Exp\\n\\nTrade Volume Contracts\\n\\n was traded now \\n\\nCurrent Stock Price \\n\\nTrade Type Split\\n\\nFollow the Money amp Trade Options with Our SmartOptions Artificial Intelligence \\nhttps www smartoptions ai'"
      ]
     },
     "execution_count": 7,
     "metadata": {},
     "output_type": "execute_result"
    }
   ],
   "source": [
    "import re\n",
    "re.sub(MULTIPLE_SPACES, ' ', re.sub(\"[^a-zA-Z\\\\s]\", \" \", content))"
   ]
  }
 ],
 "metadata": {
  "kernelspec": {
   "display_name": "Python 3",
   "language": "python",
   "name": "python3"
  },
  "language_info": {
   "codemirror_mode": {
    "name": "ipython",
    "version": 3
   },
   "file_extension": ".py",
   "mimetype": "text/x-python",
   "name": "python",
   "nbconvert_exporter": "python",
   "pygments_lexer": "ipython3",
   "version": "3.6.5"
  }
 },
 "nbformat": 4,
 "nbformat_minor": 4
}
